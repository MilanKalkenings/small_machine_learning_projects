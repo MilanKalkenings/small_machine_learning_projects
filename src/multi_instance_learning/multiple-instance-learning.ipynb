{
 "cells": [
  {
   "cell_type": "code",
   "execution_count": 10,
   "id": "3bd7a89c",
   "metadata": {
    "execution": {
     "iopub.execute_input": "2023-05-23T14:27:59.610938Z",
     "iopub.status.busy": "2023-05-23T14:27:59.610536Z",
     "iopub.status.idle": "2023-05-23T14:28:08.179492Z",
     "shell.execute_reply": "2023-05-23T14:28:08.177493Z",
     "shell.execute_reply.started": "2023-05-23T14:27:59.610902Z"
    }
   },
   "outputs": [
    {
     "name": "stdout",
     "output_type": "stream",
     "text": [
      "Requirement already satisfied: milankalkenings==0.1.42 in /opt/conda/lib/python3.10/site-packages (0.1.42)\n"
     ]
    },
    {
     "name": "stderr",
     "output_type": "stream",
     "text": [
      "\u001b[33mWARNING: Running pip as the 'root' user can result in broken permissions and conflicting behaviour with the system package manager. It is recommended to use a virtual environment instead: https://pip.pypa.io/warnings/venv\u001b[0m\u001b[33m\n",
      "\u001b[0m"
     ]
    },
    {
     "data": {
      "text/plain": [
       "0"
      ]
     },
     "execution_count": 10,
     "metadata": {},
     "output_type": "execute_result"
    }
   ],
   "source": [
    "import sys\n",
    "import subprocess\n",
    "subprocess.check_call([sys.executable, \"-m\", \"pip\", \"install\", \"milankalkenings==0.1.42\"])"
   ]
  },
  {
   "cell_type": "code",
   "execution_count": 11,
   "id": "ab0ae8ca",
   "metadata": {
    "execution": {
     "iopub.execute_input": "2023-05-23T14:28:08.181832Z",
     "iopub.status.busy": "2023-05-23T14:28:08.181256Z",
     "iopub.status.idle": "2023-05-23T14:28:08.187615Z",
     "shell.execute_reply": "2023-05-23T14:28:08.186381Z",
     "shell.execute_reply.started": "2023-05-23T14:28:08.181802Z"
    }
   },
   "outputs": [],
   "source": [
    "from typing import Tuple, List\n",
    "import torch\n",
    "from torchvision.datasets import MNIST\n",
    "from milankalkenings.utils import make_reproducible\n",
    "from milankalkenings.train_test import Module\n",
    "import matplotlib.pyplot as plt\n",
    "from milankalkenings.visualization import images_subplot\n",
    "import random"
   ]
  },
  {
   "cell_type": "code",
   "execution_count": 12,
   "id": "08997ce2",
   "metadata": {
    "execution": {
     "iopub.execute_input": "2023-05-23T14:28:08.189457Z",
     "iopub.status.busy": "2023-05-23T14:28:08.189097Z",
     "iopub.status.idle": "2023-05-23T14:28:08.204754Z",
     "shell.execute_reply": "2023-05-23T14:28:08.203167Z",
     "shell.execute_reply.started": "2023-05-23T14:28:08.189426Z"
    }
   },
   "outputs": [],
   "source": [
    "make_reproducible()\n",
    "monitoring_path = \"\"\n",
    "data_path = \"/data\"\n",
    "upscale = 2\n",
    "n_obs = 1200 * upscale\n",
    "n_bags = 120 * upscale\n",
    "n_bags_train = 100 * upscale\n",
    "n_bags_test = n_bags - n_bags_train\n",
    "positive_class = 2\n",
    "n_epochs = 10 #10\n",
    "print_epochs = 1\n",
    "lr = 0.0001\n",
    "rand_max_jump = 0.01"
   ]
  },
  {
   "cell_type": "code",
   "execution_count": 13,
   "id": "6d865a44",
   "metadata": {
    "execution": {
     "iopub.execute_input": "2023-05-23T14:28:08.208732Z",
     "iopub.status.busy": "2023-05-23T14:28:08.207467Z",
     "iopub.status.idle": "2023-05-23T14:28:08.228318Z",
     "shell.execute_reply": "2023-05-23T14:28:08.226588Z",
     "shell.execute_reply.started": "2023-05-23T14:28:08.208691Z"
    }
   },
   "outputs": [],
   "source": [
    "class MILPooling(torch.nn.Module):\n",
    "    def __init__(self, M: int, L: int):\n",
    "        \"\"\"\n",
    "        given the embeddings of a bag, calculates\n",
    "        the (weighted) mean embedding.\n",
    "        each embedding is weighted by its importance for determining\n",
    "        if the batch contains a positive instance or not.\n",
    "\n",
    "        :param M: input size\n",
    "        :param L: hidden size\n",
    "        \"\"\"\n",
    "        super(MILPooling, self).__init__()\n",
    "        self.w = torch.nn.Linear(in_features=L, out_features=1, bias=False)\n",
    "        self.V = torch.nn.Linear(in_features=M, out_features=L, bias=False)\n",
    "        self.U = torch.nn.Linear(in_features=M, out_features=L, bias=False)\n",
    "        self.tanh = torch.nn.Tanh()\n",
    "        self.sigmoid = torch.nn.Sigmoid()\n",
    "        self.softmax = torch.nn.Softmax(dim=0)\n",
    "\n",
    "    def forward(self, embeddings: torch.Tensor) -> Tuple[torch.Tensor, torch.Tensor]:\n",
    "        logits = torch.zeros(size=[len(embeddings)])\n",
    "        for i, emb in enumerate(embeddings):\n",
    "            V_e = self.tanh(self.V(emb))\n",
    "            U_e = self.sigmoid(self.U(emb))\n",
    "            logits_e = self.w(V_e * U_e)\n",
    "            logits[i] = logits_e\n",
    "        attention_scores = self.softmax(logits)\n",
    "        return attention_scores @ embeddings, attention_scores\n",
    "\n",
    "\n",
    "class MILClassifier(Module):\n",
    "    def __init__(self, L: int):\n",
    "        super(MILClassifier, self).__init__()\n",
    "        self.conv1 = torch.nn.Conv2d(in_channels=1,\n",
    "                                     out_channels=20,\n",
    "                                     kernel_size=5)\n",
    "        self.conv2 = torch.nn.Conv2d(in_channels=20,\n",
    "                                     out_channels=50,\n",
    "                                     kernel_size=5)\n",
    "        self.pool = torch.nn.MaxPool2d(kernel_size=2, stride=2)\n",
    "        self.flatten = torch.nn.Flatten()\n",
    "        self.fc1 = torch.nn.Linear(in_features=800, out_features=500)\n",
    "        self.mil_pool = MILPooling(M=500, L=L)\n",
    "        self.fc2 = torch.nn.Linear(in_features=500, out_features=1)\n",
    "        self.sigmoid = torch.nn.Sigmoid()\n",
    "        self.relu = torch.nn.ReLU()\n",
    "        self.loss = torch.nn.BCELoss()\n",
    "\n",
    "    def forward(self, x, y):\n",
    "        x = self.conv1(x)\n",
    "        x = self.relu(x)\n",
    "        x = self.pool(x)\n",
    "\n",
    "        x = self.conv2(x)\n",
    "        x = self.relu(x)\n",
    "        x = self.pool(x)\n",
    "\n",
    "        x = self.flatten(x)\n",
    "\n",
    "        x = self.fc1(x)\n",
    "        x = self.relu(x)\n",
    "\n",
    "        x, attention_scores = self.mil_pool(x)\n",
    "\n",
    "        x = self.fc2(x)\n",
    "        prob = self.sigmoid(x)[0]\n",
    "        pred = torch.round(input=prob)\n",
    "        loss = self.loss(input=prob, target=y)\n",
    "        return {\"loss\": loss, \"pred\": pred, \"prob\": prob, \"attention_scores\": attention_scores}\n",
    "\n",
    "\n",
    "def create_mnist_bags(data_path: str,\n",
    "                      n_obs: int,\n",
    "                      n_bags: int,\n",
    "                      positive_class: int) -> Tuple[List[torch.Tensor], torch.Tensor]:\n",
    "    \"\"\"\n",
    "    bags data points into bags of varying size.\n",
    "    bag has label \"1\" if it contains at least one instance of positive_class, else \"0\".\n",
    "\n",
    "    :param data_path: path to the mnist data set\n",
    "\n",
    "    :param n_obs: number of observations used\n",
    "\n",
    "    :param n_bags: number of bags\n",
    "\n",
    "    :param positive_class: class that determines bag label\n",
    "    :return:\n",
    "    \"\"\"\n",
    "    mnist_train = MNIST(root=data_path + \"/mnist\", train=True, download=True)\n",
    "    x = mnist_train.data[:n_obs]\n",
    "    y = mnist_train.targets[:n_obs]\n",
    "\n",
    "    rand = torch.rand(size=[len(y)])\n",
    "    bags_x = []\n",
    "    bags_y = torch.zeros(size=[n_bags])\n",
    "    for bag_id in range(n_bags):\n",
    "        cond = (rand < (bag_id + 1)/n_bags) & (rand > bag_id/n_bags)\n",
    "        bag_x = torch.unsqueeze(x[cond].float(), dim=1)\n",
    "        bags_x.append(bag_x)\n",
    "        bags_y[bag_id] = torch.any(y[cond] == positive_class).float().item()\n",
    "    return bags_x, bags_y\n",
    "\n",
    "\n",
    "def random_change(value: float, max_amount: float):\n",
    "    return random.uniform(value - value * max_amount, value + value * max_amount)"
   ]
  },
  {
   "cell_type": "code",
   "execution_count": 14,
   "id": "bf0afff1",
   "metadata": {
    "execution": {
     "iopub.execute_input": "2023-05-23T14:28:08.230294Z",
     "iopub.status.busy": "2023-05-23T14:28:08.229956Z",
     "iopub.status.idle": "2023-05-23T14:28:08.316604Z",
     "shell.execute_reply": "2023-05-23T14:28:08.315412Z",
     "shell.execute_reply.started": "2023-05-23T14:28:08.230265Z"
    }
   },
   "outputs": [],
   "source": [
    "bags_x, bags_y = create_mnist_bags(data_path=data_path,\n",
    "                                   n_bags=n_bags,\n",
    "                                   n_obs=n_obs,\n",
    "                                   positive_class=positive_class)\n",
    "bags_x_train = bags_x[:n_bags_train]\n",
    "bags_y_train = bags_y[:n_bags_train]\n",
    "bags_x_test = bags_x[n_bags_train:]\n",
    "bags_y_test = bags_y[n_bags_train:]"
   ]
  },
  {
   "cell_type": "code",
   "execution_count": 15,
   "id": "47c175b4",
   "metadata": {
    "execution": {
     "iopub.execute_input": "2023-05-23T14:28:08.320039Z",
     "iopub.status.busy": "2023-05-23T14:28:08.319042Z",
     "iopub.status.idle": "2023-05-23T14:28:27.067011Z",
     "shell.execute_reply": "2023-05-23T14:28:27.065795Z",
     "shell.execute_reply.started": "2023-05-23T14:28:08.320005Z"
    }
   },
   "outputs": [
    {
     "name": "stdout",
     "output_type": "stream",
     "text": [
      "epoch 1 loss 1.3661538360825682\n",
      "epoch 2 loss 0.26378395217486267\n",
      "epoch 3 loss 0.11096717634676322\n",
      "epoch 4 loss 0.05197301545130075\n",
      "epoch 5 loss 0.021045900870859252\n",
      "epoch 6 loss 0.020314352888988328\n",
      "epoch 7 loss 0.007944288851337689\n",
      "epoch 8 loss 0.0008398384274563857\n",
      "epoch 9 loss 0.00046835602652052445\n"
     ]
    }
   ],
   "source": [
    "# training\n",
    "mil_cls = MILClassifier(L=128)\n",
    "mil_cls.train()\n",
    "adam = torch.optim.Adam(params=mil_cls.parameters(), lr=lr)\n",
    "for epoch in range(1, n_epochs):\n",
    "    lr = random_change(value=lr, max_amount=lr * rand_max_jump)\n",
    "    for pg in adam.param_groups:\n",
    "        pg[\"lr\"] = lr\n",
    "\n",
    "    loss_epoch = 0\n",
    "    for i in range(n_bags_train):\n",
    "        bag_x = bags_x_train[i]\n",
    "        bag_y = bags_y_train[i]\n",
    "        loss = mil_cls(x=bag_x, y=bag_y)[\"loss\"]\n",
    "        loss_epoch += loss.item() / n_bags_train\n",
    "        loss.backward()\n",
    "        adam.step()\n",
    "        adam.zero_grad()\n",
    "    if epoch % print_epochs == 0:\n",
    "        print(\"epoch\", epoch, \"loss\", loss_epoch)"
   ]
  },
  {
   "cell_type": "code",
   "execution_count": 16,
   "id": "04cb7023",
   "metadata": {
    "execution": {
     "iopub.execute_input": "2023-05-23T14:28:27.068649Z",
     "iopub.status.busy": "2023-05-23T14:28:27.068397Z",
     "iopub.status.idle": "2023-05-23T14:28:27.181558Z",
     "shell.execute_reply": "2023-05-23T14:28:27.180580Z",
     "shell.execute_reply.started": "2023-05-23T14:28:27.068626Z"
    }
   },
   "outputs": [
    {
     "name": "stdout",
     "output_type": "stream",
     "text": [
      "test bags of positive class: tensor(0.5750)\n",
      "test acc: tensor(0.9000)\n"
     ]
    }
   ],
   "source": [
    "# bag level prediction accuracy on the test set:\n",
    "mil_cls.eval()\n",
    "preds = torch.zeros(size=[(n_bags_test)])\n",
    "with torch.no_grad():\n",
    "    for i in range(n_bags_test):\n",
    "        bag_x = bags_x_test[i]\n",
    "        bag_y = bags_y_test[i]\n",
    "        preds[i] = mil_cls(x=bag_x, y=bag_y)[\"pred\"]\n",
    "print(\"test bags of positive class:\", torch.mean(bags_y_test))\n",
    "print(\"test acc:\", torch.mean((preds == bags_y_test).float()))"
   ]
  },
  {
   "cell_type": "code",
   "execution_count": 17,
   "id": "736c0664",
   "metadata": {
    "execution": {
     "iopub.execute_input": "2023-05-23T14:28:27.183394Z",
     "iopub.status.busy": "2023-05-23T14:28:27.182882Z",
     "iopub.status.idle": "2023-05-23T14:28:28.334727Z",
     "shell.execute_reply": "2023-05-23T14:28:28.333351Z",
     "shell.execute_reply.started": "2023-05-23T14:28:27.183138Z"
    }
   },
   "outputs": [
    {
     "data": {
      "image/png": "[encoded data removed]",
      "text/plain": [
       "<Figure size 1200x1200 with 9 Axes>"
      ]
     },
     "metadata": {},
     "output_type": "display_data"
    }
   ],
   "source": [
    "pos_bag_id = 5\n",
    "pos_bag_x_test = bags_x_test[pos_bag_id]\n",
    "pos_bag_y_test = bags_y_test[pos_bag_id]\n",
    "pos_attention_scores = mil_cls(x=pos_bag_x_test, y=pos_bag_y_test)[\"attention_scores\"]\n",
    "images_subplot(images=[img for img in pos_bag_x_test],\n",
    "               title=\"bag attention for a bag with an instance of '2'\",\n",
    "               subplot_titles=[str(round(a.item(), 2)) for a in pos_attention_scores],\n",
    "               save_file=monitoring_path + \"/pos\")"
   ]
  },
  {
   "cell_type": "markdown",
   "id": "e337e0b1",
   "metadata": {},
   "source": [
    "- high attention to the instance of positive class"
   ]
  },
  {
   "cell_type": "code",
   "execution_count": 18,
   "id": "7e021133",
   "metadata": {
    "execution": {
     "iopub.execute_input": "2023-05-23T14:28:28.336389Z",
     "iopub.status.busy": "2023-05-23T14:28:28.336012Z",
     "iopub.status.idle": "2023-05-23T14:28:29.273026Z",
     "shell.execute_reply": "2023-05-23T14:28:29.271565Z",
     "shell.execute_reply.started": "2023-05-23T14:28:28.336359Z"
    }
   },
   "outputs": [
    {
     "data": {
      "image/png": "[encoded data removed]",
      "text/plain": [
       "<Figure size 1200x1200 with 9 Axes>"
      ]
     },
     "metadata": {},
     "output_type": "display_data"
    }
   ],
   "source": [
    "neg_bag_id = 1\n",
    "neg_bag_x_test = bags_x_test[neg_bag_id]\n",
    "neg_bag_y_test = bags_y_test[neg_bag_id]\n",
    "neg_attention_scores = mil_cls(x=neg_bag_x_test, y=neg_bag_y_test)[\"attention_scores\"]\n",
    "images_subplot(images=[img for img in neg_bag_x_test],\n",
    "               title=\"bag attention for a bag without an instance of '2'\",\n",
    "               subplot_titles=[str(round(a.item(), 2)) for a in neg_attention_scores],\n",
    "               save_file=monitoring_path + \"/neg\")"
   ]
  },
  {
   "cell_type": "markdown",
   "id": "2f1377e9",
   "metadata": {},
   "source": [
    "- low ( close to uniform) attention to all instances, because no instance of positive class is in the bag"
   ]
  }
 ],
 "metadata": {
  "kernelspec": {
   "display_name": "Python 3 (ipykernel)",
   "language": "python",
   "name": "python3"
  },
  "language_info": {
   "codemirror_mode": {
    "name": "ipython",
    "version": 3
   },
   "file_extension": ".py",
   "mimetype": "text/x-python",
   "name": "python",
   "nbconvert_exporter": "python",
   "pygments_lexer": "ipython3",
   "version": "3.9.13"
  }
 },
 "nbformat": 4,
 "nbformat_minor": 5
}
