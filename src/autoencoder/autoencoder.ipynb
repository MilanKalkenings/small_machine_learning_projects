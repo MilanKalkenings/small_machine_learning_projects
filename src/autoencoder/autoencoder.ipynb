{
  "nbformat": 4,
  "nbformat_minor": 0,
  "metadata": {
    "colab": {
      "provenance": [],
      "gpuType": "V100"
    },
    "kernelspec": {
      "name": "python3",
      "display_name": "Python 3"
    },
    "language_info": {
      "name": "python"
    },
    "accelerator": "GPU",
    "gpuClass": "standard"
  },
  "cells": [
    {
      "cell_type": "markdown",
      "source": [
        "# Task 1: Autoencoder"
      ],
      "metadata": {
        "id": "9D15aoDs31YR"
      }
    },
    {
      "cell_type": "code",
      "execution_count": 22,
      "metadata": {
        "colab": {
          "base_uri": "https://localhost:8080/"
        },
        "id": "BdxK1gbz8pb2",
        "outputId": "b118d170-1dc3-44dd-b4d6-1592364b0d6d"
      },
      "outputs": [
        {
          "output_type": "stream",
          "name": "stdout",
          "text": [
            "Drive already mounted at /content/drive; to attempt to forcibly remount, call drive.mount(\"/content/drive\", force_remount=True).\n"
          ]
        }
      ],
      "source": [
        "from google.colab import drive\n",
        "drive.mount('/content/drive')"
      ]
    },
    {
      "cell_type": "code",
      "source": [
        "import sys\n",
        "import subprocess\n",
        "\n",
        "from torchvision import datasets, transforms\n",
        "from torch.utils.data import random_split, SequentialSampler\n",
        "from torch.optim import Adam\n",
        "\n",
        "subprocess.check_call([sys.executable, \"-m\", \"pip\", \"install\", \"milankalkenings==0.1.37\"])\n",
        "\n",
        "from milankalkenings import *"
      ],
      "metadata": {
        "id": "YtEvHCev-MiZ"
      },
      "execution_count": 23,
      "outputs": []
    },
    {
      "cell_type": "code",
      "source": [
        "class Encoder(nn.Module):\n",
        "    def __init__(self):\n",
        "        super(Encoder, self).__init__()\n",
        "        self.rect = nn.ReLU()\n",
        "        self.conv1 = nn.Conv2d(in_channels=3, out_channels=32, kernel_size=3, stride=2, padding=1)\n",
        "        self.conv2 = nn.Conv2d(in_channels=32, out_channels=16, kernel_size=3, stride=2, padding=1)\n",
        "        self.conv3 = nn.Conv2d(in_channels=16, out_channels=8, kernel_size=3, stride=2, padding=1)\n",
        "\n",
        "    def forward(self, x: torch.Tensor):\n",
        "        x = self.rect(self.conv1(x))\n",
        "        x = self.rect(self.conv2(x))\n",
        "        x = self.rect(self.conv3(x))\n",
        "        return x\n",
        "\n",
        "\n",
        "class Decoder(nn.Module):\n",
        "    def __init__(self):\n",
        "        super(Decoder, self).__init__()\n",
        "        self.rect = nn.ReLU()\n",
        "        self.sigmoid = nn.Sigmoid()\n",
        "        self.tconv1 = nn.ConvTranspose2d(in_channels=8, out_channels=8, kernel_size=3, stride=2, padding=1)\n",
        "        self.tconv2 = nn.ConvTranspose2d(in_channels=8, out_channels=16, kernel_size=3, stride=2)\n",
        "        self.tconv3 = nn.ConvTranspose2d(in_channels=16, out_channels=32, kernel_size=3, stride=2)\n",
        "        self.conv1 = nn.Conv2d(in_channels=32, out_channels=3, kernel_size=2, padding=1)\n",
        "\n",
        "    def forward(self, x: torch.Tensor):\n",
        "        x = self.rect(self.tconv1(x))\n",
        "        x = self.rect(self.tconv2(x))\n",
        "        x = self.rect(self.tconv3(x))\n",
        "        x = self.rect(self.conv1(x))\n",
        "        return x\n",
        "\n",
        "\n",
        "class Classifier(Module):\n",
        "    def __init__(self, encoder: Encoder, n_classes: int):\n",
        "        super(Classifier, self).__init__()\n",
        "        self.encoder = encoder\n",
        "        self.flatten = nn.Flatten()\n",
        "        self.cls_head = nn.Linear(in_features=128, out_features=n_classes)\n",
        "        self.ce_loss = nn.CrossEntropyLoss()\n",
        "\n",
        "    def forward(self,\n",
        "                x: Union[torch.Tensor, List[torch.Tensor]],\n",
        "                y: Union[torch.Tensor, List[torch.Tensor]]) -> ModuleOutput:\n",
        "        encoding = self.encoder(x)\n",
        "        encoding_flat = self.flatten(encoding)\n",
        "        scores = self.cls_head(encoding_flat)\n",
        "        loss = self.ce_loss(scores, y)\n",
        "        return {\"scores\": scores, \"loss\": loss}\n",
        "\n",
        "\n",
        "class AutoEncoder(Module):\n",
        "    def __init__(self):\n",
        "        super(AutoEncoder, self).__init__()\n",
        "        self.encoder = Encoder()\n",
        "        self.decoder = Decoder()\n",
        "        self.mse_loss = nn.MSELoss()\n",
        "\n",
        "    # doesn't need y, included in implementation for milankalkenings-0.1.33-trainer interface\n",
        "    def forward(self,\n",
        "                x: Union[torch.Tensor, List[torch.Tensor]],\n",
        "                y: Union[torch.Tensor, List[torch.Tensor]]) -> ModuleOutput:\n",
        "        encoding = self.encoder(x)\n",
        "        scores = self.decoder(encoding)\n",
        "        loss = self.mse_loss(scores, x)\n",
        "        return {\"loss\": loss, \"scores\": scores, \"encoding\": encoding}\n"
      ],
      "metadata": {
        "id": "twQdPrF6-J89"
      },
      "execution_count": 24,
      "outputs": []
    },
    {
      "cell_type": "code",
      "source": [
        "# hyperparameters\n",
        "# general\n",
        "device = \"cuda\"\n",
        "batch_size = 128\n",
        "batch_size_test = 1\n",
        "optimizer_class = Adam\n",
        "\n",
        "# checkpoint paths\n",
        "monitoring_path = \"/content/drive/MyDrive/autoencoder/monitoring\"\n",
        "check_cifar100_rec_initial = monitoring_path + \"/cifar100_rec_initial.pkl\"\n",
        "check_cifar100_rec_running = monitoring_path + \"/cifar100_rec_running.pkl\"\n",
        "check_cifar100_rec_final = monitoring_path + \"/cifar100_rec_final.pkl\"\n",
        "check_cifar100_cls_initial = monitoring_path + \"/cifar100_rec_initial.pkl\"\n",
        "check_cifar100_cls_running = monitoring_path + \"/cifar100_rec_running.pkl\"\n",
        "check_cifar100_cls_final = monitoring_path + \"/cifar100_rec_final.pkl\"\n",
        "check_mnist_rec_initial = monitoring_path + \"/mnist_rec_initial.pkl\"\n",
        "check_mnist_rec_running = monitoring_path + \"/mnist_rec_running.pkl\"\n",
        "check_mnist_rec_final = monitoring_path + \"/mnist_rec_final.pkl\"\n",
        "check_mnist_cls_initial = monitoring_path + \"/mnist_rec_initial.pkl\"\n",
        "check_mnist_cls_running = monitoring_path + \"/mnist_rec_running.pkl\"\n",
        "check_mnist_cls_final = monitoring_path + \"/mnist_rec_final.pkl\"\n",
        "\n",
        "# data preprocessing\n",
        "data_path = \"/content/drive/MyDrive/autoencoder/data\"\n",
        "root_cifar100 = data_path + \"/cifar100\"\n",
        "root_mnist = data_path + \"/mnist\"\n",
        "train_trans_cifar100 = transforms.Compose([transforms.RandomHorizontalFlip(),\n",
        "                                           transforms.ToTensor()])\n",
        "test_trans_cifar100 = transforms.Compose([transforms.ToTensor()])\n",
        "train_trans_mnist = transforms.Compose([transforms.Resize((32, 32)),\n",
        "                                        transforms.Grayscale(num_output_channels=3),\n",
        "                                        transforms.RandomHorizontalFlip(),\n",
        "                                        transforms.ToTensor()])\n",
        "test_trans_mnist = transforms.Compose([transforms.Resize((32, 32)),\n",
        "                                       transforms.Grayscale(num_output_channels=3),\n",
        "                                       transforms.ToTensor()])\n",
        "\n",
        "# rec training\n",
        "n_epochs_rec_cifar100 = 100\n",
        "max_es_violations_rec_cifar100 = 5\n",
        "lr_rec_cifar100 = 0.001\n",
        "n_epochs_rec_mnist = 100\n",
        "max_es_violations_rec_mnist = 5\n",
        "lr_rec_mnist = 0.001\n",
        "\n",
        "# cls training\n",
        "n_epochs_cls_cifar100 = 5\n",
        "max_es_violations_cls_cifar100 = 5\n",
        "lr_cls_cifar100 = 0.001\n",
        "n_epochs_cls_mnist = 5\n",
        "max_es_violations_cls_mnist = 5\n",
        "lr_cls_mnist = 0.001\n",
        "\n",
        "# loaders\n",
        "data_cifar100 = ImageClsDataset(dataset_class=datasets.CIFAR100,\n",
        "                                save_dir=root_cifar100,\n",
        "                                train_trans=train_trans_cifar100,\n",
        "                                val_trans=test_trans_cifar100,\n",
        "                                test_trans=test_trans_cifar100)\n",
        "data_mnist = ImageClsDataset(dataset_class=datasets.MNIST,\n",
        "                             save_dir=root_mnist,\n",
        "                             train_trans=train_trans_mnist,\n",
        "                             val_trans=test_trans_mnist,\n",
        "                             test_trans=test_trans_mnist)\n",
        "\n",
        "loader_train_cifar100, loader_val_cifar100, loader_test_cifar100 = data_cifar100.create_loaders(batch_size_train=batch_size,\n",
        "                                                                                                batch_size_val=batch_size,\n",
        "                                                                                                batch_size_test=batch_size_test)\n",
        "loader_train_mnist, loader_val_mnist, loader_test_mnist = data_mnist.create_loaders(batch_size_train=batch_size,\n",
        "                                                                                    batch_size_val=batch_size,\n",
        "                                                                                    batch_size_test=batch_size_test)"
      ],
      "metadata": {
        "id": "5uRFdpFs9Fdx"
      },
      "execution_count": null,
      "outputs": []
    },
    {
      "cell_type": "markdown",
      "source": [
        "# training reconstruction on CIFAR100"
      ],
      "metadata": {
        "id": "nQtC9wqW7B29"
      }
    },
    {
      "cell_type": "code",
      "source": [
        "#autoencoder_cifar100 = AutoEncoder()\n",
        "#save_secure(module=autoencoder_cifar100, file=check_cifar100_rec_initial)\n",
        "autoencoder_cifar100 = load_secure(file=check_cifar100_rec_initial).to(device)\n",
        "\n",
        "trainer_rec_cifar100 = Trainer(module=autoencoder_cifar100,\n",
        "                               loader_train=loader_train_cifar100,\n",
        "                               loader_val=loader_val_cifar100,\n",
        "                               loader_test=loader_test_cifar100,\n",
        "                               checkpoint_final=check_cifar100_rec_final,\n",
        "                               checkpoint_running=check_cifar100_rec_final,\n",
        "                               optimizer_class=optimizer_class,\n",
        "                               device=device)\n",
        "\n",
        "trainer_rec_cifar100.determine_initial_lr(module=autoencoder_cifar100, n_iters=100, lr_candidates=[0.005, 0.001, 0.05, 0.01], batch_debug=next(iter(loader_train_cifar100)), save_file=monitoring_path + \"lr determination\")"
      ],
      "metadata": {
        "colab": {
          "base_uri": "https://localhost:8080/",
          "height": 806
        },
        "id": "3J1Y1iGCEdcG",
        "outputId": "e4d3db0c-bb91-43a0-c589-f79985f6e138"
      },
      "execution_count": null,
      "outputs": [
        {
          "output_type": "display_data",
          "data": {
            "text/plain": [
              "<Figure size 800x800 with 4 Axes>"
            ],
            "image/png": "[encoded data removed]"
          },
          "metadata": {}
        }
      ]
    },
    {
      "cell_type": "code",
      "source": [
        "autoencoder_cifar100, losses_train_rec_cifar100, losses_val_rec_cifar100 = trainer_rec_cifar100.train(\n",
        "    n_epochs=n_epochs_rec_cifar100,\n",
        "    lrs=[lr_rec_cifar100] * n_epochs_rec_cifar100,\n",
        "    early_stopping_max_violations=max_es_violations_rec_cifar100)"
      ],
      "metadata": {
        "colab": {
          "base_uri": "https://localhost:8080/"
        },
        "id": "FQuoTKnW-AHg",
        "outputId": "d6e64696-1a10-4b30-9a8b-a36937087d77"
      },
      "execution_count": null,
      "outputs": [
        {
          "output_type": "stream",
          "name": "stdout",
          "text": [
            "eval loss val 0.29947352409362793 eval loss train 0.3003104329109192\n",
            "training epoch 1\n",
            "eval loss val 0.01901611126959324 eval loss train 0.0190106313675642\n",
            "loss improvement achieved, final checkpoint updated\n",
            "training epoch 2\n",
            "eval loss val 0.01655927672982216 eval loss train 0.016573715955018997\n",
            "loss improvement achieved, final checkpoint updated\n",
            "training epoch 3\n",
            "eval loss val 0.013361544348299503 eval loss train 0.013352432288229465\n",
            "loss improvement achieved, final checkpoint updated\n",
            "training epoch 4\n",
            "eval loss val 0.010439588688313961 eval loss train 0.010411667637526989\n",
            "loss improvement achieved, final checkpoint updated\n",
            "training epoch 5\n",
            "eval loss val 0.009902558289468288 eval loss train 0.009876919910311699\n",
            "loss improvement achieved, final checkpoint updated\n",
            "training epoch 6\n",
            "eval loss val 0.009620964527130127 eval loss train 0.009598790667951107\n",
            "loss improvement achieved, final checkpoint updated\n",
            "training epoch 7\n",
            "eval loss val 0.009284915402531624 eval loss train 0.00927028153091669\n",
            "loss improvement achieved, final checkpoint updated\n",
            "training epoch 8\n",
            "eval loss val 0.008725606836378574 eval loss train 0.00872004497796297\n",
            "loss improvement achieved, final checkpoint updated\n",
            "training epoch 9\n",
            "eval loss val 0.008272340521216393 eval loss train 0.008267944678664207\n",
            "loss improvement achieved, final checkpoint updated\n",
            "training epoch 10\n",
            "eval loss val 0.008280258625745773 eval loss train 0.00827732216566801\n",
            "no loss improvement, es violations: 1 of 5\n",
            "training epoch 11\n",
            "eval loss val 0.008048933930695057 eval loss train 0.008046615868806839\n",
            "loss improvement achieved, final checkpoint updated\n",
            "training epoch 12\n",
            "eval loss val 0.007733112666755915 eval loss train 0.007731428369879723\n",
            "loss improvement achieved, final checkpoint updated\n",
            "training epoch 13\n",
            "eval loss val 0.007758656516671181 eval loss train 0.0077585093677043915\n",
            "no loss improvement, es violations: 1 of 5\n",
            "training epoch 14\n",
            "eval loss val 0.007720906753093004 eval loss train 0.007721410598605871\n",
            "loss improvement achieved, final checkpoint updated\n",
            "training epoch 15\n",
            "eval loss val 0.00753894355148077 eval loss train 0.007539784070104361\n",
            "loss improvement achieved, final checkpoint updated\n",
            "training epoch 16\n",
            "eval loss val 0.007611554581671953 eval loss train 0.007612644229084253\n",
            "no loss improvement, es violations: 1 of 5\n",
            "training epoch 17\n",
            "eval loss val 0.007568775210529566 eval loss train 0.007569880690425634\n",
            "no loss improvement, es violations: 2 of 5\n",
            "training epoch 18\n",
            "eval loss val 0.007390053942799568 eval loss train 0.007391070481389761\n",
            "loss improvement achieved, final checkpoint updated\n",
            "training epoch 19\n",
            "eval loss val 0.00745360367000103 eval loss train 0.007454578764736652\n",
            "no loss improvement, es violations: 1 of 5\n",
            "training epoch 20\n",
            "eval loss val 0.0073543875478208065 eval loss train 0.007355346344411373\n",
            "loss improvement achieved, final checkpoint updated\n",
            "training epoch 21\n",
            "eval loss val 0.0074784294702112675 eval loss train 0.0074799926951527596\n",
            "no loss improvement, es violations: 1 of 5\n",
            "training epoch 22\n",
            "eval loss val 0.00730388006195426 eval loss train 0.007305453531444073\n",
            "loss improvement achieved, final checkpoint updated\n",
            "training epoch 23\n",
            "eval loss val 0.0074081565253436565 eval loss train 0.007410265039652586\n",
            "no loss improvement, es violations: 1 of 5\n",
            "training epoch 24\n",
            "eval loss val 0.007347604725509882 eval loss train 0.007349778898060322\n",
            "no loss improvement, es violations: 2 of 5\n",
            "training epoch 25\n",
            "eval loss val 0.0073105948977172375 eval loss train 0.0073129055090248585\n",
            "no loss improvement, es violations: 3 of 5\n",
            "training epoch 26\n",
            "eval loss val 0.007343475706875324 eval loss train 0.007346045225858688\n",
            "no loss improvement, es violations: 4 of 5\n",
            "training epoch 27\n",
            "eval loss val 0.007268551737070084 eval loss train 0.007271112874150276\n",
            "loss improvement achieved, final checkpoint updated\n",
            "training epoch 28\n",
            "eval loss val 0.007281182799488306 eval loss train 0.007283893413841724\n",
            "no loss improvement, es violations: 1 of 5\n",
            "training epoch 29\n",
            "eval loss val 0.007298923563212156 eval loss train 0.007301690056920052\n",
            "no loss improvement, es violations: 2 of 5\n",
            "training epoch 30\n",
            "eval loss val 0.007298977114260197 eval loss train 0.007301590871065855\n",
            "no loss improvement, es violations: 3 of 5\n",
            "training epoch 31\n",
            "eval loss val 0.007279843557626009 eval loss train 0.007282244972884655\n",
            "no loss improvement, es violations: 4 of 5\n",
            "training epoch 32\n",
            "eval loss val 0.0072837877087295055 eval loss train 0.007286335341632366\n",
            "no loss improvement, es violations: 5 of 5\n",
            "early stopping\n"
          ]
        }
      ]
    },
    {
      "cell_type": "code",
      "source": [
        "# display original and reconstructed image for max AND min mse observation\n",
        "# loader_test_cifar100 has batch_size = 1 -> loss per batch = loss per obs (and has sequential sampler)\n",
        "test_obs_mses = trainer_rec_cifar100.loss_epoch_eval_per_batch(module=autoencoder_cifar100, loader_eval=loader_test_cifar100)\n",
        "max_mse_obs_id = torch.argmax(test_obs_mses)\n",
        "max_mse_img = data_cifar100.test_dataset[max_mse_obs_id][0]\n",
        "max_mse_pred = autoencoder_cifar100(x=max_mse_img.to(device), y=None)[\"scores\"]\n",
        "\n",
        "min_mse_obs_id = torch.argmin(test_obs_mses)\n",
        "min_mse_img = data_cifar100.test_dataset[min_mse_obs_id][0]\n",
        "min_mse_pred = autoencoder_cifar100(x=min_mse_img.to(device), y=None)[\"scores\"]\n",
        "images_subplot(images=[max_mse_img, max_mse_pred.to(\"cpu\"), min_mse_img, min_mse_pred.to(\"cpu\")],\n",
        "               title=\"autoencoder results on CIFAR100\", subplot_titles=[\"original, max mse\", \"prediction, max mse\", \"original, min mse\", \"prediction, min mse\"], save_file=monitoring_path + \"/cifar100_prediction\")"
      ],
      "metadata": {
        "colab": {
          "base_uri": "https://localhost:8080/",
          "height": 843
        },
        "id": "gtCPKBUz90rn",
        "outputId": "27af1c15-4aaf-487c-d4b1-6811a9a6e7db"
      },
      "execution_count": null,
      "outputs": [
        {
          "output_type": "stream",
          "name": "stderr",
          "text": [
            "WARNING:matplotlib.image:Clipping input data to the valid range for imshow with RGB data ([0..1] for floats or [0..255] for integers).\n"
          ]
        },
        {
          "output_type": "display_data",
          "data": {
            "text/plain": [
              "<Figure size 800x800 with 4 Axes>"
            ],
            "image/png": "[encoded data removed]"
          },
          "metadata": {}
        }
      ]
    },
    {
      "cell_type": "markdown",
      "source": [
        "# training reconstruction on MNIST"
      ],
      "metadata": {
        "id": "17tqBEcF6uKR"
      }
    },
    {
      "cell_type": "code",
      "source": [
        "# do the same on mnist\n",
        "# autoencoder_mnist = AutoEncoder()\n",
        "# save_secure(module=autoencoder_mnist, file=check_mnist_rec_initial)\n",
        "autoencoder_mnist = load_secure(file=check_mnist_rec_initial).to(device)\n",
        "trainer_rec_mnist = Trainer(module=autoencoder_mnist,\n",
        "                            loader_train=loader_train_mnist,\n",
        "                            loader_val=loader_val_mnist,\n",
        "                            loader_test=loader_test_mnist,\n",
        "                            checkpoint_final=check_mnist_rec_final,\n",
        "                            checkpoint_running=check_mnist_rec_final,\n",
        "                            optimizer_class=Adam,\n",
        "                            device=device)\n",
        "\n",
        "autoencoder_mnist, losses_train_rec_mnist, losses_val_rec_mnist = trainer_rec_mnist.train(\n",
        "    n_epochs=n_epochs_rec_mnist,\n",
        "    lrs=[lr_rec_mnist] * n_epochs_rec_mnist,\n",
        "    early_stopping_max_violations=max_es_violations_rec_mnist)"
      ],
      "metadata": {
        "colab": {
          "base_uri": "https://localhost:8080/"
        },
        "id": "xRgz7qgG9wMN",
        "outputId": "308626de-6198-4941-9347-c8bd3c9462e5"
      },
      "execution_count": null,
      "outputs": [
        {
          "output_type": "stream",
          "name": "stdout",
          "text": [
            "eval loss val 0.09086303412914276 eval loss train 0.09052157402038574\n",
            "training epoch 1\n",
            "eval loss val 0.0043305037543177605 eval loss train 0.00430345069617033\n",
            "loss improvement achieved, final checkpoint updated\n",
            "training epoch 2\n",
            "eval loss val 0.002957066986709833 eval loss train 0.0029396130703389645\n",
            "loss improvement achieved, final checkpoint updated\n",
            "training epoch 3\n",
            "eval loss val 0.002545685274526477 eval loss train 0.002528007375076413\n",
            "loss improvement achieved, final checkpoint updated\n",
            "training epoch 4\n",
            "eval loss val 0.0023934103082865477 eval loss train 0.002375238109380007\n",
            "loss improvement achieved, final checkpoint updated\n",
            "training epoch 5\n",
            "eval loss val 0.002224999014288187 eval loss train 0.0022066133096814156\n",
            "loss improvement achieved, final checkpoint updated\n",
            "training epoch 6\n",
            "eval loss val 0.0021213514264672995 eval loss train 0.0021030819043517113\n",
            "loss improvement achieved, final checkpoint updated\n",
            "training epoch 7\n",
            "eval loss val 0.002028543269261718 eval loss train 0.0020107533782720566\n",
            "loss improvement achieved, final checkpoint updated\n",
            "training epoch 8\n",
            "eval loss val 0.0019447625381872058 eval loss train 0.0019274224760010839\n",
            "loss improvement achieved, final checkpoint updated\n",
            "training epoch 9\n",
            "eval loss val 0.001874200883321464 eval loss train 0.0018570920219644904\n",
            "loss improvement achieved, final checkpoint updated\n",
            "training epoch 10\n",
            "eval loss val 0.0018160045146942139 eval loss train 0.0017986949533224106\n",
            "loss improvement achieved, final checkpoint updated\n",
            "training epoch 11\n",
            "eval loss val 0.0017539897235110402 eval loss train 0.0017369973938912153\n",
            "loss improvement achieved, final checkpoint updated\n",
            "training epoch 12\n",
            "eval loss val 0.001703194109722972 eval loss train 0.0016864819917827845\n",
            "loss improvement achieved, final checkpoint updated\n",
            "training epoch 13\n",
            "eval loss val 0.0016654637875035405 eval loss train 0.0016489089466631413\n",
            "loss improvement achieved, final checkpoint updated\n",
            "training epoch 14\n",
            "eval loss val 0.0016386008355766535 eval loss train 0.0016222208505496383\n",
            "loss improvement achieved, final checkpoint updated\n",
            "training epoch 15\n",
            "eval loss val 0.0016114598838612437 eval loss train 0.001595284673385322\n",
            "loss improvement achieved, final checkpoint updated\n",
            "training epoch 16\n",
            "eval loss val 0.0015894460957497358 eval loss train 0.0015734590124338865\n",
            "loss improvement achieved, final checkpoint updated\n",
            "training epoch 17\n",
            "eval loss val 0.0015663898084312677 eval loss train 0.0015503945760428905\n",
            "loss improvement achieved, final checkpoint updated\n",
            "training epoch 18\n",
            "eval loss val 0.0015424782177433372 eval loss train 0.001526524662040174\n",
            "loss improvement achieved, final checkpoint updated\n",
            "training epoch 19\n",
            "eval loss val 0.0015254034660756588 eval loss train 0.0015094376867637038\n",
            "loss improvement achieved, final checkpoint updated\n",
            "training epoch 20\n",
            "eval loss val 0.0015001354040578008 eval loss train 0.0014840851072221994\n",
            "loss improvement achieved, final checkpoint updated\n",
            "training epoch 21\n",
            "eval loss val 0.0014829030260443687 eval loss train 0.001466943882405758\n",
            "loss improvement achieved, final checkpoint updated\n",
            "training epoch 22\n",
            "eval loss val 0.0014665297931060195 eval loss train 0.0014506673905998468\n",
            "loss improvement achieved, final checkpoint updated\n",
            "training epoch 23\n",
            "eval loss val 0.0014490234898403287 eval loss train 0.0014328670222312212\n",
            "loss improvement achieved, final checkpoint updated\n",
            "training epoch 24\n",
            "eval loss val 0.00144534045830369 eval loss train 0.0014289853861555457\n",
            "loss improvement achieved, final checkpoint updated\n",
            "training epoch 25\n",
            "eval loss val 0.001436680555343628 eval loss train 0.0014202477177605033\n",
            "loss improvement achieved, final checkpoint updated\n",
            "training epoch 26\n",
            "eval loss val 0.0014314660802483559 eval loss train 0.0014149151975288987\n",
            "loss improvement achieved, final checkpoint updated\n",
            "training epoch 27\n",
            "eval loss val 0.0014160177670419216 eval loss train 0.0013995097251608968\n",
            "loss improvement achieved, final checkpoint updated\n",
            "training epoch 28\n",
            "eval loss val 0.0014124228619039059 eval loss train 0.001395832747220993\n",
            "loss improvement achieved, final checkpoint updated\n",
            "training epoch 29\n",
            "eval loss val 0.0013892422430217266 eval loss train 0.0013729576021432877\n",
            "loss improvement achieved, final checkpoint updated\n",
            "training epoch 30\n",
            "eval loss val 0.0013770242221653461 eval loss train 0.0013609380694106221\n",
            "loss improvement achieved, final checkpoint updated\n",
            "training epoch 31\n",
            "eval loss val 0.0013667045859619975 eval loss train 0.0013508442789316177\n",
            "loss improvement achieved, final checkpoint updated\n",
            "training epoch 32\n",
            "eval loss val 0.0013619227102026343 eval loss train 0.001345946337096393\n",
            "loss improvement achieved, final checkpoint updated\n",
            "training epoch 33\n",
            "eval loss val 0.0013603029074147344 eval loss train 0.001344258664175868\n",
            "loss improvement achieved, final checkpoint updated\n",
            "training epoch 34\n",
            "eval loss val 0.0013457565801218152 eval loss train 0.0013301630970090628\n",
            "loss improvement achieved, final checkpoint updated\n",
            "training epoch 35\n",
            "eval loss val 0.001342342235147953 eval loss train 0.0013265882153064013\n",
            "loss improvement achieved, final checkpoint updated\n",
            "training epoch 36\n",
            "eval loss val 0.0013321483274921775 eval loss train 0.0013166225980967283\n",
            "loss improvement achieved, final checkpoint updated\n",
            "training epoch 37\n",
            "eval loss val 0.0013292849762365222 eval loss train 0.001313882996328175\n",
            "loss improvement achieved, final checkpoint updated\n",
            "training epoch 38\n",
            "eval loss val 0.0013368965592235327 eval loss train 0.0013210381148383021\n",
            "no loss improvement, es violations: 1 of 5\n",
            "training epoch 39\n",
            "eval loss val 0.0013320663711056113 eval loss train 0.001316202455200255\n",
            "no loss improvement, es violations: 2 of 5\n",
            "training epoch 40\n",
            "eval loss val 0.001321090618148446 eval loss train 0.0013053866568952799\n",
            "loss improvement achieved, final checkpoint updated\n",
            "training epoch 41\n",
            "eval loss val 0.001340246293693781 eval loss train 0.0013242398854345083\n",
            "no loss improvement, es violations: 1 of 5\n",
            "training epoch 42\n",
            "eval loss val 0.0013327108463272452 eval loss train 0.0013168083969503641\n",
            "no loss improvement, es violations: 2 of 5\n",
            "training epoch 43\n",
            "eval loss val 0.0013252169592306018 eval loss train 0.0013093756278976798\n",
            "no loss improvement, es violations: 3 of 5\n",
            "training epoch 44\n",
            "eval loss val 0.0013201377587392926 eval loss train 0.001304337871260941\n",
            "loss improvement achieved, final checkpoint updated\n",
            "training epoch 45\n",
            "eval loss val 0.001304573961533606 eval loss train 0.0012889683712273836\n",
            "loss improvement achieved, final checkpoint updated\n",
            "training epoch 46\n",
            "eval loss val 0.0012961603933945298 eval loss train 0.0012806173181161284\n",
            "loss improvement achieved, final checkpoint updated\n",
            "training epoch 47\n",
            "eval loss val 0.0012913072714582086 eval loss train 0.001275766990147531\n",
            "loss improvement achieved, final checkpoint updated\n",
            "training epoch 48\n",
            "eval loss val 0.0012967748334631324 eval loss train 0.0012810529442504048\n",
            "no loss improvement, es violations: 1 of 5\n",
            "training epoch 49\n",
            "eval loss val 0.0012890853686258197 eval loss train 0.001273375703021884\n",
            "loss improvement achieved, final checkpoint updated\n",
            "training epoch 50\n",
            "eval loss val 0.001288071391172707 eval loss train 0.0012722619576379657\n",
            "loss improvement achieved, final checkpoint updated\n",
            "training epoch 51\n",
            "eval loss val 0.0012714063050225377 eval loss train 0.0012557714944705367\n",
            "loss improvement achieved, final checkpoint updated\n",
            "training epoch 52\n",
            "eval loss val 0.0012667507398873568 eval loss train 0.0012511387467384338\n",
            "loss improvement achieved, final checkpoint updated\n",
            "training epoch 53\n",
            "eval loss val 0.001262378878891468 eval loss train 0.0012468470958992839\n",
            "loss improvement achieved, final checkpoint updated\n",
            "training epoch 54\n",
            "eval loss val 0.0012589683756232262 eval loss train 0.0012433987576514482\n",
            "loss improvement achieved, final checkpoint updated\n",
            "training epoch 55\n",
            "eval loss val 0.001260189339518547 eval loss train 0.0012443710584193468\n",
            "no loss improvement, es violations: 1 of 5\n",
            "training epoch 56\n",
            "eval loss val 0.0012528897495940328 eval loss train 0.0012371568009257317\n",
            "loss improvement achieved, final checkpoint updated\n",
            "training epoch 57\n",
            "eval loss val 0.0012499128933995962 eval loss train 0.0012341693509370089\n",
            "loss improvement achieved, final checkpoint updated\n",
            "training epoch 58\n",
            "eval loss val 0.0012492657406255603 eval loss train 0.0012335676001384854\n",
            "loss improvement achieved, final checkpoint updated\n",
            "training epoch 59\n",
            "eval loss val 0.0012461391743272543 eval loss train 0.0012303546536713839\n",
            "loss improvement achieved, final checkpoint updated\n",
            "training epoch 60\n",
            "eval loss val 0.0012450282229110599 eval loss train 0.0012291831662878394\n",
            "loss improvement achieved, final checkpoint updated\n",
            "training epoch 61\n",
            "eval loss val 0.001242275582626462 eval loss train 0.0012263216776773334\n",
            "loss improvement achieved, final checkpoint updated\n",
            "training epoch 62\n",
            "eval loss val 0.0012369686737656593 eval loss train 0.0012208974221721292\n",
            "loss improvement achieved, final checkpoint updated\n",
            "training epoch 63\n",
            "eval loss val 0.0012336797080934048 eval loss train 0.0012175074080005288\n",
            "loss improvement achieved, final checkpoint updated\n",
            "training epoch 64\n",
            "eval loss val 0.001232501002959907 eval loss train 0.0012162955245003104\n",
            "loss improvement achieved, final checkpoint updated\n",
            "training epoch 65\n",
            "eval loss val 0.0012277052737772465 eval loss train 0.0012113588163629174\n",
            "loss improvement achieved, final checkpoint updated\n",
            "training epoch 66\n",
            "eval loss val 0.0012248316779732704 eval loss train 0.0012082024477422237\n",
            "loss improvement achieved, final checkpoint updated\n",
            "training epoch 67\n",
            "eval loss val 0.0012259514769539237 eval loss train 0.0012091564713045955\n",
            "no loss improvement, es violations: 1 of 5\n",
            "training epoch 68\n",
            "eval loss val 0.0012182790087535977 eval loss train 0.001201581209897995\n",
            "loss improvement achieved, final checkpoint updated\n",
            "training epoch 69\n",
            "eval loss val 0.0012171115959063172 eval loss train 0.001200323342345655\n",
            "loss improvement achieved, final checkpoint updated\n",
            "training epoch 70\n",
            "eval loss val 0.001214090152643621 eval loss train 0.0011972433421760798\n",
            "loss improvement achieved, final checkpoint updated\n",
            "training epoch 71\n",
            "eval loss val 0.0012100889580324292 eval loss train 0.0011932734632864594\n",
            "loss improvement achieved, final checkpoint updated\n",
            "training epoch 72\n",
            "eval loss val 0.0012080057058483362 eval loss train 0.0011910740286111832\n",
            "loss improvement achieved, final checkpoint updated\n",
            "training epoch 73\n",
            "eval loss val 0.0012053607497364283 eval loss train 0.0011884775012731552\n",
            "loss improvement achieved, final checkpoint updated\n",
            "training epoch 74\n",
            "eval loss val 0.0012038822751492262 eval loss train 0.0011869766749441624\n",
            "loss improvement achieved, final checkpoint updated\n",
            "training epoch 75\n",
            "eval loss val 0.001201601349748671 eval loss train 0.0011846296256408095\n",
            "loss improvement achieved, final checkpoint updated\n",
            "training epoch 76\n",
            "eval loss val 0.0011989972554147243 eval loss train 0.0011818980565294623\n",
            "loss improvement achieved, final checkpoint updated\n",
            "training epoch 77\n",
            "eval loss val 0.0011979787377640605 eval loss train 0.0011809152783825994\n",
            "loss improvement achieved, final checkpoint updated\n",
            "training epoch 78\n",
            "eval loss val 0.0011955321533605456 eval loss train 0.001178412465378642\n",
            "loss improvement achieved, final checkpoint updated\n",
            "training epoch 79\n",
            "eval loss val 0.001192652271129191 eval loss train 0.0011754550505429506\n",
            "loss improvement achieved, final checkpoint updated\n",
            "training epoch 80\n",
            "eval loss val 0.0011899621458724141 eval loss train 0.0011726967059075832\n",
            "loss improvement achieved, final checkpoint updated\n",
            "training epoch 81\n",
            "eval loss val 0.001187652349472046 eval loss train 0.0011703409254550934\n",
            "loss improvement achieved, final checkpoint updated\n",
            "training epoch 82\n",
            "eval loss val 0.0011852066963911057 eval loss train 0.0011678526643663645\n",
            "loss improvement achieved, final checkpoint updated\n",
            "training epoch 83\n",
            "eval loss val 0.0011835979530587792 eval loss train 0.0011662065517157316\n",
            "loss improvement achieved, final checkpoint updated\n",
            "training epoch 84\n",
            "eval loss val 0.0011816190090030432 eval loss train 0.001164156710729003\n",
            "loss improvement achieved, final checkpoint updated\n",
            "training epoch 85\n",
            "eval loss val 0.0011797265615314245 eval loss train 0.001162213273346424\n",
            "loss improvement achieved, final checkpoint updated\n",
            "training epoch 86\n",
            "eval loss val 0.0011780564673244953 eval loss train 0.001160518964752555\n",
            "loss improvement achieved, final checkpoint updated\n",
            "training epoch 87\n",
            "eval loss val 0.0011761491186916828 eval loss train 0.0011585723841562867\n",
            "loss improvement achieved, final checkpoint updated\n",
            "training epoch 88\n",
            "eval loss val 0.0011739474721252918 eval loss train 0.001156306709162891\n",
            "loss improvement achieved, final checkpoint updated\n",
            "training epoch 89\n",
            "eval loss val 0.0011721373302862048 eval loss train 0.0011544424341991544\n",
            "loss improvement achieved, final checkpoint updated\n",
            "training epoch 90\n",
            "eval loss val 0.001170545001514256 eval loss train 0.001152814133092761\n",
            "loss improvement achieved, final checkpoint updated\n",
            "training epoch 91\n",
            "eval loss val 0.001168524962849915 eval loss train 0.0011508025927469134\n",
            "loss improvement achieved, final checkpoint updated\n",
            "training epoch 92\n",
            "eval loss val 0.0011669264640659094 eval loss train 0.0011491194600239396\n",
            "loss improvement achieved, final checkpoint updated\n",
            "training epoch 93\n",
            "eval loss val 0.0011652294779196382 eval loss train 0.0011473357444629073\n",
            "loss improvement achieved, final checkpoint updated\n",
            "training epoch 94\n",
            "eval loss val 0.0011635322589427233 eval loss train 0.0011456683278083801\n",
            "loss improvement achieved, final checkpoint updated\n",
            "training epoch 95\n",
            "eval loss val 0.0011615526163950562 eval loss train 0.0011436996283009648\n",
            "loss improvement achieved, final checkpoint updated\n",
            "training epoch 96\n",
            "eval loss val 0.0011595458490774035 eval loss train 0.0011416720226407051\n",
            "loss improvement achieved, final checkpoint updated\n",
            "training epoch 97\n",
            "eval loss val 0.0011584844905883074 eval loss train 0.0011405512923374772\n",
            "loss improvement achieved, final checkpoint updated\n",
            "training epoch 98\n",
            "eval loss val 0.0011567288311198354 eval loss train 0.0011387888807803392\n",
            "loss improvement achieved, final checkpoint updated\n",
            "training epoch 99\n",
            "eval loss val 0.0011548952898010612 eval loss train 0.0011369579005986452\n",
            "loss improvement achieved, final checkpoint updated\n",
            "training epoch 100\n",
            "eval loss val 0.0011540163541212678 eval loss train 0.0011360239004716277\n",
            "loss improvement achieved, final checkpoint updated\n"
          ]
        }
      ]
    },
    {
      "cell_type": "code",
      "source": [
        "# loader_test_mnist has batch_size = 1 -> loss per batch = loss per obs (and has sequential sampler)\n",
        "test_obs_mses = trainer_rec_mnist.loss_epoch_eval_per_batch(module=autoencoder_mnist, loader_eval=loader_test_mnist)\n",
        "max_mse_obs_id = torch.argmax(test_obs_mses)\n",
        "max_mse_img = data_mnist.test_dataset[max_mse_obs_id][0]\n",
        "max_mse_pred = autoencoder_mnist(x=max_mse_img.to(device), y=None)[\"scores\"]\n",
        "\n",
        "min_mse_obs_id = torch.argmin(test_obs_mses)\n",
        "min_mse_img = data_mnist.test_dataset[min_mse_obs_id][0]\n",
        "min_mse_pred = autoencoder_mnist(x=min_mse_img.to(device), y=None)[\"scores\"]\n",
        "images_subplot(images=[max_mse_img, max_mse_pred.to(\"cpu\"), min_mse_img, min_mse_pred.to(\"cpu\")],\n",
        "               title=\"autoencoder results on MNIST\", subplot_titles=[\"original, max mse\", \"prediction, max mse\", \"original, min mse\", \"prediction, min mse\"], save_file=monitoring_path + \"/mnist_prediction\")"
      ],
      "metadata": {
        "colab": {
          "base_uri": "https://localhost:8080/",
          "height": 843
        },
        "id": "NmQOzqrJMKHf",
        "outputId": "f26ce764-5577-4748-9db4-c2eff3166c22"
      },
      "execution_count": null,
      "outputs": [
        {
          "output_type": "stream",
          "name": "stderr",
          "text": [
            "WARNING:matplotlib.image:Clipping input data to the valid range for imshow with RGB data ([0..1] for floats or [0..255] for integers).\n"
          ]
        },
        {
          "output_type": "display_data",
          "data": {
            "text/plain": [
              "<Figure size 800x800 with 4 Axes>"
            ],
            "image/png": "[encoded data removed]"
          },
          "metadata": {}
        }
      ]
    },
    {
      "cell_type": "markdown",
      "source": [
        "# general reconstruction ability"
      ],
      "metadata": {
        "id": "XlLolOCc6mNR"
      }
    },
    {
      "cell_type": "code",
      "source": [
        "autoencoder_random = load_secure(file=check_cifar100_cls_initial).to(device)\n",
        "mse_untrained_on_cifar100 = trainer_rec_cifar100.loss_epoch_eval(module=autoencoder_random, \n",
        "                                                                 loader_eval=loader_test_cifar100)\n",
        "\n",
        "mse_untrained_on_mnist = trainer_rec_cifar100.loss_epoch_eval(module=autoencoder_random, \n",
        "                                                             loader_eval=loader_test_mnist)\n",
        "\n",
        "mse_cross_on_mnist = trainer_rec_cifar100.loss_epoch_eval(module=autoencoder_cifar100, \n",
        "                                                             loader_eval=loader_test_mnist)\n",
        "mse_cross_on_cifar100 = trainer_rec_mnist.loss_epoch_eval(module=autoencoder_mnist, \n",
        "                                                          loader_eval=loader_test_cifar100)\n",
        "\n",
        "mse_cifar100 = trainer_rec_cifar100.loss_epoch_eval(module=autoencoder_cifar100, \n",
        "                                                    loader_eval=loader_test_cifar100)\n",
        "mse_mnist = trainer_rec_mnist.loss_epoch_eval(module=autoencoder_mnist, \n",
        "                                              loader_eval=loader_test_mnist)\n",
        "\n",
        "\n",
        "print(\"mean mse on cifar100 after initialization:\", mse_untrained_on_cifar100)\n",
        "print(\"mean mse on cifar100 after mnist training:\", mse_cross_on_cifar100)\n",
        "print(\"mean mse on cifar100 after cifar100 training:\", mse_cifar100)\n",
        "\n",
        "print(\"mean mse on mnist after initialization:\", mse_untrained_on_mnist)\n",
        "print(\"mean mse on mnist after cifar100 training:\", mse_cross_on_mnist)\n",
        "print(\"mean mse on mnist after mnist training:\", mse_mnist)"
      ],
      "metadata": {
        "colab": {
          "base_uri": "https://localhost:8080/"
        },
        "id": "VAM9NuDm9tSV",
        "outputId": "9b05b383-0678-4190-bfa9-45d844d28ada"
      },
      "execution_count": null,
      "outputs": [
        {
          "output_type": "stream",
          "name": "stdout",
          "text": [
            "mean mse on cifar100 after initialization: 0.3017454445362091\n",
            "mean mse on cifar100 after mnist training: 0.09275778383016586\n",
            "mean mse on cifar100 after cifar100 training: 0.007397091016173363\n",
            "mean mse on mnist after initialization: 0.10269580036401749\n",
            "mean mse on mnist after cifar100 training: 0.009012334980070591\n",
            "mean mse on mnist after mnist training: 0.0010934886522591114\n"
          ]
        }
      ]
    },
    {
      "cell_type": "markdown",
      "source": [
        "# Using a pretrained encoder for classification"
      ],
      "metadata": {
        "id": "aPWEVQUJ6e7t"
      }
    },
    {
      "cell_type": "code",
      "source": [
        "autoencoder_random = load_secure(file=check_cifar100_cls_initial).to(device)\n",
        "classifier_random = Classifier(encoder=autoencoder_random.encoder, n_classes=100)\n",
        "save_secure(module=classifier_random, file=check_cifar100_cls_initial)\n",
        "classifier_random = load_secure(file=check_cifar100_cls_initial).to(device)\n",
        "trainer_cls_random = Trainer(module=classifier_random, \n",
        "                             loader_train=loader_train_cifar100, \n",
        "                             loader_val=loader_val_cifar100, \n",
        "                             loader_test=loader_test_cifar100, \n",
        "                             optimizer_class=optimizer_class, \n",
        "                             device=device, \n",
        "                             checkpoint_running=check_cifar100_cls_running, \n",
        "                             checkpoint_final=check_cifar100_cls_final)\n",
        "trainer_cls_random.train(n_epochs=n_epochs_cls_cifar100, \n",
        "                         lrs=[lr_cls_cifar100]*n_epochs_cls_cifar100, \n",
        "                         early_stopping_max_violations=max_es_violations_cls_cifar100)"
      ],
      "metadata": {
        "colab": {
          "base_uri": "https://localhost:8080/"
        },
        "id": "Divi5xosep32",
        "outputId": "afdaf65c-d64a-43eb-c8d3-55ce4a112e0d"
      },
      "execution_count": null,
      "outputs": [
        {
          "output_type": "stream",
          "name": "stdout",
          "text": [
            "eval loss val 4.606760025024414 eval loss train 4.606176853179932\n",
            "training epoch 1\n",
            "eval loss val 3.88308048248291 eval loss train 3.8584342002868652\n",
            "loss improvement achieved, final checkpoint updated\n",
            "training epoch 2\n",
            "eval loss val 3.710446834564209 eval loss train 3.653135061264038\n",
            "loss improvement achieved, final checkpoint updated\n",
            "training epoch 3\n",
            "eval loss val 3.60099196434021 eval loss train 3.5148465633392334\n",
            "loss improvement achieved, final checkpoint updated\n",
            "training epoch 4\n",
            "eval loss val 3.52231502532959 eval loss train 3.4157464504241943\n",
            "loss improvement achieved, final checkpoint updated\n",
            "training epoch 5\n",
            "eval loss val 3.4619290828704834 eval loss train 3.3368680477142334\n",
            "loss improvement achieved, final checkpoint updated\n"
          ]
        },
        {
          "output_type": "execute_result",
          "data": {
            "text/plain": [
              "(Classifier(\n",
              "   (encoder): Encoder(\n",
              "     (rect): ReLU()\n",
              "     (conv1): Conv2d(3, 32, kernel_size=(3, 3), stride=(2, 2), padding=(1, 1))\n",
              "     (conv2): Conv2d(32, 16, kernel_size=(3, 3), stride=(2, 2), padding=(1, 1))\n",
              "     (conv3): Conv2d(16, 8, kernel_size=(3, 3), stride=(2, 2), padding=(1, 1))\n",
              "   )\n",
              "   (flatten): Flatten(start_dim=1, end_dim=-1)\n",
              "   (cls_head): Linear(in_features=128, out_features=100, bias=True)\n",
              "   (ce_loss): CrossEntropyLoss()\n",
              " ),\n",
              " [4.606176853179932,\n",
              "  3.8584342002868652,\n",
              "  3.653135061264038,\n",
              "  3.5148465633392334,\n",
              "  3.4157464504241943,\n",
              "  3.3368680477142334],\n",
              " [4.606760025024414,\n",
              "  3.88308048248291,\n",
              "  3.710446834564209,\n",
              "  3.60099196434021,\n",
              "  3.52231502532959,\n",
              "  3.4619290828704834])"
            ]
          },
          "metadata": {},
          "execution_count": 70
        }
      ]
    },
    {
      "cell_type": "code",
      "source": [
        "autoencoder_cifar100 = load_secure(file=check_cifar100_rec_final)\n",
        "classifier_pretrained = load_secure(file=check_cifar100_cls_initial).to(device)\n",
        "classifier_pretrained.encoder = autoencoder_cifar100.encoder \n",
        "trainer_cls_pretrained = Trainer(module=classifier_pretrained, \n",
        "                                 loader_train=loader_train_cifar100, \n",
        "                                 loader_val=loader_val_cifar100, \n",
        "                                 loader_test=loader_test_cifar100, \n",
        "                                 optimizer_class=optimizer_class, \n",
        "                                 device=device, \n",
        "                                 checkpoint_running=check_cifar100_cls_running, \n",
        "                                 checkpoint_final=check_cifar100_cls_final)\n",
        "trainer_cls_pretrained.train(n_epochs=n_epochs_cls_cifar100, \n",
        "                             lrs=[lr_cls_cifar100]*n_epochs_cls_cifar100, \n",
        "                             early_stopping_max_violations=max_es_violations_cls_cifar100)"
      ],
      "metadata": {
        "colab": {
          "base_uri": "https://localhost:8080/"
        },
        "id": "3UAuwatlif_R",
        "outputId": "088c7023-d2b0-47d8-b77b-f8ee534f1a01"
      },
      "execution_count": null,
      "outputs": [
        {
          "output_type": "stream",
          "name": "stdout",
          "text": [
            "eval loss val 5.153634548187256 eval loss train 5.164750099182129\n",
            "training epoch 1\n",
            "eval loss val 3.616201162338257 eval loss train 3.5674405097961426\n",
            "loss improvement achieved, final checkpoint updated\n",
            "training epoch 2\n",
            "eval loss val 3.4519553184509277 eval loss train 3.3740720748901367\n",
            "loss improvement achieved, final checkpoint updated\n",
            "training epoch 3\n",
            "eval loss val 3.367218017578125 eval loss train 3.2644710540771484\n",
            "loss improvement achieved, final checkpoint updated\n",
            "training epoch 4\n",
            "eval loss val 3.307884454727173 eval loss train 3.185678243637085\n",
            "loss improvement achieved, final checkpoint updated\n",
            "training epoch 5\n",
            "eval loss val 3.2651939392089844 eval loss train 3.126099109649658\n",
            "loss improvement achieved, final checkpoint updated\n"
          ]
        },
        {
          "output_type": "execute_result",
          "data": {
            "text/plain": [
              "(Classifier(\n",
              "   (encoder): Encoder(\n",
              "     (rect): ReLU()\n",
              "     (conv1): Conv2d(3, 32, kernel_size=(3, 3), stride=(2, 2), padding=(1, 1))\n",
              "     (conv2): Conv2d(32, 16, kernel_size=(3, 3), stride=(2, 2), padding=(1, 1))\n",
              "     (conv3): Conv2d(16, 8, kernel_size=(3, 3), stride=(2, 2), padding=(1, 1))\n",
              "   )\n",
              "   (flatten): Flatten(start_dim=1, end_dim=-1)\n",
              "   (cls_head): Linear(in_features=128, out_features=100, bias=True)\n",
              "   (ce_loss): CrossEntropyLoss()\n",
              " ),\n",
              " [5.164750099182129,\n",
              "  3.5674405097961426,\n",
              "  3.3740720748901367,\n",
              "  3.2644710540771484,\n",
              "  3.185678243637085,\n",
              "  3.126099109649658],\n",
              " [5.153634548187256,\n",
              "  3.616201162338257,\n",
              "  3.4519553184509277,\n",
              "  3.367218017578125,\n",
              "  3.307884454727173,\n",
              "  3.2651939392089844])"
            ]
          },
          "metadata": {},
          "execution_count": 7
        }
      ]
    },
    {
      "cell_type": "markdown",
      "source": [
        "# conclusions\n",
        "- if an autoencoder is trained to reconstruct instances of data set X, it is likely to achieve good results on reconstructing instances of data set Y, if X and Y are similar enough. autoencoders can (to some degree) learn *general reconstruction abilities* on equal data types\n",
        "- pretraining an *encoder* within an autoencoder, and later using it for as a feature learner in a classifier can speed up the training process, because the encoder already learned how to extract general features in the given data\n",
        "- a well trained autoencoder can be used to generate new data points that still contain the data signal, but add further noise (similar to data augmentation)"
      ],
      "metadata": {
        "id": "3Tpa-LuxkHbs"
      }
    }
  ]
}